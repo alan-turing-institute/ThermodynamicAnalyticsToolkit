{
 "cells": [
  {
   "cell_type": "markdown",
   "metadata": {},
   "source": [
    "## Feeding a dataset\n",
    "\n",
    "In the part before we have seen how to set up a single-layer perceptron.\n",
    "\n",
    "Now, we will be feeding a (real) dataset. There are two ways:\n",
    "\n",
    "- specifying a file (CSV or TFRecord)\n",
    "- specifying two numpy arrays"
   ]
  },
  {
   "cell_type": "code",
   "execution_count": 1,
   "metadata": {},
   "outputs": [],
   "source": [
    "import TATi.simulation as tati"
   ]
  },
  {
   "cell_type": "markdown",
   "metadata": {},
   "source": [
    "### Using a file\n",
    "\n",
    "Let us first use a file, *dataset-twocluster.csv*.\n",
    "\n",
    "The two-dimensional dataset looks as follows. To this end, we use `pandas`'s `read_csv()` function to the parse the file as a `DataFrame`. Next, we plot its features in columns \"x1\" and \"x2\" using `matplotlib`."
   ]
  },
  {
   "cell_type": "code",
   "execution_count": 2,
   "metadata": {},
   "outputs": [
    {
     "data": {
      "image/png": "[encoded data removed]",
      "text/plain": [
       "<Figure size 432x288 with 1 Axes>"
      ]
     },
     "metadata": {
      "needs_background": "light"
     },
     "output_type": "display_data"
    }
   ],
   "source": [
    "%matplotlib inline\n",
    "import matplotlib.pyplot as plt\n",
    "import pandas as pd\n",
    "\n",
    "dataset = pd.read_csv(\"dataset-twoclusters.csv\", sep=\",\", header=0)\n",
    "plt.scatter(dataset[\"x1\"].values, dataset[\"x2\"].values, c=dataset[\"label\"].values)\n",
    "plt.show()"
   ]
  },
  {
   "cell_type": "markdown",
   "metadata": {},
   "source": [
    "As you see, there are two clusters of points with 10 points in total. Each cluster has a distinct label, {-1,1}.\n",
    "\n",
    "We can feed this dataset right at instantiation of `tati`."
   ]
  },
  {
   "cell_type": "code",
   "execution_count": 3,
   "metadata": {},
   "outputs": [],
   "source": [
    "nn = tati(batch_data_files=[\"dataset-twoclusters.csv\"],\n",
    "          batch_data_file_type=\"csv\",\n",
    "          hidden_dimension=[0],\n",
    "          hidden_activation=\"linear\", output_activation=\"relu\",\n",
    "          loss=\"mean_squared\")"
   ]
  },
  {
   "cell_type": "markdown",
   "metadata": {},
   "source": [
    "We do not have to set **input_dimension** or **output_dimension** as these are taken from the dataset directly.\n",
    "\n",
    "If we inspect the corresponding option, then we get the correct number of features per dataset item."
   ]
  },
  {
   "cell_type": "code",
   "execution_count": 5,
   "metadata": {},
   "outputs": [
    {
     "name": "stdout",
     "output_type": "stream",
     "text": [
      "2\n"
     ]
    }
   ],
   "source": [
    "print(nn._options.get(\"input_dimension\"))"
   ]
  },
  {
   "cell_type": "markdown",
   "metadata": {},
   "source": [
    "We could also have fed the dataset *after* we instantiate `tati` using its `dataset` member."
   ]
  },
  {
   "cell_type": "code",
   "execution_count": 7,
   "metadata": {},
   "outputs": [
    {
     "name": "stdout",
     "output_type": "stream",
     "text": [
      "2\n"
     ]
    }
   ],
   "source": [
    "nn = tati(hidden_dimension=[0],\n",
    "          hidden_activation=\"linear\", output_activation=\"relu\",\n",
    "          loss=\"mean_squared\")\n",
    "\n",
    "nn.dataset = \"dataset-twoclusters.csv\"\n",
    "print(nn._options.get(\"input_dimension\"))"
   ]
  },
  {
   "cell_type": "markdown",
   "metadata": {},
   "source": [
    "### Using a numpy array\n",
    "\n",
    "The member `dataset` understands both string (filenames) and list (containing two numpy arrays).\n",
    "\n",
    "Here, we simply use the columns \"x1\" and \"x2\" as features and the column \"label\" as label of our initially parsed dataset file."
   ]
  },
  {
   "cell_type": "code",
   "execution_count": 8,
   "metadata": {},
   "outputs": [],
   "source": [
    "nn.dataset = [dataset[[\"x1\", \"x2\"]].values, dataset[[\"label\"]].values]"
   ]
  },
  {
   "cell_type": "markdown",
   "metadata": {},
   "source": [
    "### Assessing the dataset\n",
    "\n",
    "So, what have we actually fed?\n",
    "\n",
    "We can inspect the whole dataset as follows."
   ]
  },
  {
   "cell_type": "code",
   "execution_count": 9,
   "metadata": {},
   "outputs": [
    {
     "name": "stdout",
     "output_type": "stream",
     "text": [
      "(array([[-2.5009074, -2.2237325],\n",
      "       [ 1.0061488,  2.8549778],\n",
      "       [-2.0612319, -1.626756 ],\n",
      "       [ 2.5928788,  2.5489697],\n",
      "       [ 1.8527263,  2.143285 ],\n",
      "       [ 1.5240172,  1.6271825],\n",
      "       [-1.8271283, -2.113889 ],\n",
      "       [ 1.8822099,  2.506151 ],\n",
      "       [-1.598089 , -1.4883324],\n",
      "       [-2.7957726, -1.968864 ]], dtype=float32), array([[-1.],\n",
      "       [ 1.],\n",
      "       [-1.],\n",
      "       [ 1.],\n",
      "       [ 1.],\n",
      "       [ 1.],\n",
      "       [-1.],\n",
      "       [ 1.],\n",
      "       [-1.],\n",
      "       [-1.]], dtype=float32))\n"
     ]
    }
   ],
   "source": [
    "print(nn.dataset)"
   ]
  },
  {
   "cell_type": "markdown",
   "metadata": {},
   "source": [
    "The option **batch_size** has an influence on what we see when accessing `dataset`, namely the current batch only. The very same batch is also fed to the network when evaluating `loss()`, `gradients()`, and so on."
   ]
  },
  {
   "cell_type": "code",
   "execution_count": 10,
   "metadata": {},
   "outputs": [],
   "source": [
    "nn.set_options(batch_size=2)\n",
    "nn.dataset = [dataset.loc[:,[\"x1\", \"x2\"]].values, dataset.loc[:,[\"label\"]].values]"
   ]
  },
  {
   "cell_type": "code",
   "execution_count": 11,
   "metadata": {},
   "outputs": [
    {
     "name": "stdout",
     "output_type": "stream",
     "text": [
      "(array([[-2.5009074, -2.2237325],\n",
      "       [ 1.0061488,  2.8549778]], dtype=float32), array([[-1.],\n",
      "       [ 1.]], dtype=float32))\n"
     ]
    }
   ],
   "source": [
    "print(nn.dataset)"
   ]
  },
  {
   "cell_type": "markdown",
   "metadata": {},
   "source": [
    "With a **batch_size** of *2* we only get two items. \n",
    "\n",
    "Accessing `dataset` multiple times returns the same batch."
   ]
  },
  {
   "cell_type": "code",
   "execution_count": 12,
   "metadata": {},
   "outputs": [
    {
     "name": "stdout",
     "output_type": "stream",
     "text": [
      "(array([[-2.5009074, -2.2237325],\n",
      "       [ 1.0061488,  2.8549778]], dtype=float32), array([[-1.],\n",
      "       [ 1.]], dtype=float32))\n"
     ]
    }
   ],
   "source": [
    "print(nn.dataset)"
   ]
  },
  {
   "cell_type": "markdown",
   "metadata": {},
   "source": [
    "If you want to trigger skipping to the next batch, do as follows."
   ]
  },
  {
   "cell_type": "code",
   "execution_count": 17,
   "metadata": {},
   "outputs": [
    {
     "name": "stdout",
     "output_type": "stream",
     "text": [
      "(array([[-2.5009074, -2.2237325],\n",
      "       [ 1.0061488,  2.8549778]], dtype=float32), array([[-1.],\n",
      "       [ 1.]], dtype=float32))\n"
     ]
    }
   ],
   "source": [
    "nn._cache.reset()\n",
    "print(nn.dataset)"
   ]
  },
  {
   "cell_type": "markdown",
   "metadata": {},
   "source": [
    "Now, we have obtained the next batch of two items (features and labels).\n",
    "\n",
    "However, triggering the next batch is easier by simply looking at loss, gradients and related objects. We'll come to this in the next part."
   ]
  },
  {
   "cell_type": "markdown",
   "metadata": {},
   "source": [
    "#### Note on shuffling\n",
    "\n",
    "Shuffling the dataset is important especially when mini-batching, i.e. batch size is smaller than the dimension of the dataset.\n",
    "\n",
    "However, `tati` does not do any shuffling. In more detail, it does by default not instruct `tensorflow` to shuffle.\n",
    "\n",
    "This is to avoid double occurring items in batches when `max_steps` is larger 1 and batch_size *is* equal to the dataset dimension: `tensorflow` does not shuffle per epoch but over the full repeated dataset.\n",
    "\n",
    "In other words, if you use mini-batching, make sure the dataset is properly shuffled before feeding it."
   ]
  },
  {
   "cell_type": "markdown",
   "metadata": {},
   "source": [
    "### Summary\n",
    "\n",
    "- feeding a dataset file\n",
    "- feeding a dataset as features and label numpy arrays\n",
    "- influence of `batch_size` on the dataset\n",
    "- shuffling the dataset"
   ]
  }
 ],
 "metadata": {
  "kernelspec": {
   "display_name": "Python 3",
   "language": "python",
   "name": "python3"
  },
  "language_info": {
   "codemirror_mode": {
    "name": "ipython",
    "version": 3
   },
   "file_extension": ".py",
   "mimetype": "text/x-python",
   "name": "python",
   "nbconvert_exporter": "python",
   "pygments_lexer": "ipython3",
   "version": "3.6.8"
  }
 },
 "nbformat": 4,
 "nbformat_minor": 2
}
