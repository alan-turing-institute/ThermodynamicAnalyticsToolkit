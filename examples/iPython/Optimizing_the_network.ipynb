{
 "cells": [
  {
   "cell_type": "markdown",
   "metadata": {},
   "source": [
    "# Optimizing the network"
   ]
  },
  {
   "cell_type": "code",
   "execution_count": 1,
   "metadata": {
    "collapsed": true
   },
   "outputs": [],
   "source": [
    "import sys\n",
    "sys.path.append('/Users/zofia/packages/DataDrivenSampler-0.3/lib/python3.6/site-packages')"
   ]
  },
  {
   "cell_type": "code",
   "execution_count": null,
   "metadata": {
    "collapsed": true
   },
   "outputs": [],
   "source": [
    "# optimizing the network"
   ]
  },
  {
   "cell_type": "code",
   "execution_count": 13,
   "metadata": {},
   "outputs": [
    {
     "name": "stdout",
     "output_type": "stream",
     "text": [
      "Parsing ['dataset-twoclusters.csv']\n",
      "(TensorShape([Dimension(None), Dimension(2)]), TensorShape([Dimension(None), Dimension(1)]))\n",
      "(tf.float32, tf.int32)\n",
      "Picking as input columns: ['x1', 'x2']\n",
      "x is (?, 2)\n",
      "Creating nn layer output with 2, 1\n",
      "Setting up output files for train\n",
      "Weight: <tf.Variable 'output/weights/Variable:0' shape=(2, 1) dtype=float64_ref>\n",
      "Placeholder: Tensor(\"Placeholder:0\", shape=(2, 1), dtype=float64)\n",
      "Weight: <tf.Variable 'output/biases/Variable:0' shape=(1,) dtype=float64_ref>\n",
      "Placeholder: Tensor(\"Placeholder_1:0\", shape=(1,), dtype=float64)\n",
      "Starting to train\n",
      "TRAINED down to loss 0.0293163 and accuracy 1.0.\n",
      "Train results\n",
      "[[1.0 0.0 '0.000' '4.16186523e+00' '3.90930000e-02' '1.18541766e-01'\n",
      "  '2.12819406e+00' '2.12819406e+00']\n",
      " [2.0 1.0 '0.000' '2.87631893e+00' '1.32330000e-02' '9.83518833e-02'\n",
      "  '1.18437418e+00' '1.65628412e+00']\n",
      " [3.0 2.0 '0.000' '1.99138141e+00' '6.50700000e-03' '8.16017447e-02'\n",
      "  '5.82955768e-01' '1.29850800e+00']\n",
      " [4.0 3.0 '0.000' '1.38219643e+00' '6.26300000e-03' '6.77054961e-02'\n",
      "  '2.08997516e-01' '1.02613038e+00']\n",
      " [5.0 4.0 '0.500' '9.62821186e-01' '6.45800000e-03' '5.61771019e-02'\n",
      "  '1.52167075e-02' '8.17860964e-01']\n",
      " [6.0 5.0 '1.000' '6.74099088e-01' '6.37700000e-03' '4.66133298e-02'\n",
      "  '1.42018670e-01' '6.57881025e-01']\n",
      " [7.0 6.0 '1.000' '4.75310892e-01' '6.26900000e-03' '3.86796624e-02'\n",
      "  '2.06465306e-01' '5.34402978e-01']\n",
      " [8.0 7.0 '1.000' '3.38428259e-01' '6.37000000e-03' '3.20985870e-02'\n",
      "  '2.31887119e-01' '4.38616716e-01']\n",
      " [9.0 8.0 '1.000' '2.44158417e-01' '6.26800000e-03' '2.66398961e-02'\n",
      "  '2.33679308e-01' '3.63917157e-01']\n",
      " [10.0 9.0 '1.000' '1.79221541e-01' '6.20900000e-03' '2.21126284e-02'\n",
      "  '2.21888034e-01' '3.05336638e-01']]\n",
      "[[1.0 '4.16186523e+00' '-5.52856529e-02' '-2.76444738e-01' '9.91160667e-02']\n",
      " [2.0 '2.87631893e+00' '1.17782452e-02' '-2.04509828e-01' '9.81698525e-02']\n",
      " [3.0 '1.99138141e+00' '6.73632077e-02' '-1.44775680e-01' '9.71757771e-02']\n",
      " [4.0 '1.38219643e+00' '1.13423961e-01' '-9.51633809e-02' '9.61457248e-02']\n",
      " [5.0 '9.62821186e-01' '1.51582278e-01' '-5.39481660e-02' '9.50894727e-02']\n",
      " [6.0 '6.74099088e-01' '1.83183688e-01' '-1.96990925e-02' '9.40150569e-02']\n",
      " [7.0 '4.75310892e-01' '2.09344537e-01' '8.77101307e-03' '9.29290675e-02']\n",
      " [8.0 '3.38428259e-01' '2.30991023e-01' '3.24470786e-02' '9.18368973e-02']\n",
      " [9.0 '2.44158417e-01' '2.48891593e-01' '5.21462397e-02' '9.07429478e-02']\n",
      " [10.0 '1.79221541e-01' '2.63683806e-01' '6.85464213e-02' '8.96507992e-02']]\n"
     ]
    }
   ],
   "source": [
    "from DataDrivenSampler.models.model import model\n",
    "import numpy as np\n",
    "FLAGS = model.setup_parameters(\n",
    "            batch_data_files=[\"dataset-twoclusters.csv\"],\n",
    "            batch_size=500,\n",
    "            max_steps=100,\n",
    "            optimizer=\"GradientDescent\",\n",
    "            output_activation=\"linear\",\n",
    "            seed=426,\n",
    "            step_width=1e-2\n",
    "        )\n",
    "nn = model(FLAGS)\n",
    "nn.init_network(None, setup=\"train\")\n",
    "run_info, trajectory = nn.train(return_run_info=True, return_trajectories=True)\n",
    "nn.finish()\n",
    "\n",
    "print(\"Train results\")\n",
    "print(np.asarray(run_info[0:10]))\n",
    "print(np.asarray(trajectory[0:10]))\n"
   ]
  },
  {
   "cell_type": "code",
   "execution_count": 15,
   "metadata": {
    "collapsed": true
   },
   "outputs": [],
   "source": [
    "import pandas as pd \n",
    "df = pd.DataFrame(trajectory)\n",
    "df.to_csv(\"run_optimizing.csv\")"
   ]
  },
  {
   "cell_type": "code",
   "execution_count": 17,
   "metadata": {},
   "outputs": [
    {
     "data": {
      "image/png": "[encoded data removed]",
      "text/plain": [
       "<matplotlib.figure.Figure at 0x112b1e080>"
      ]
     },
     "metadata": {},
     "output_type": "display_data"
    }
   ],
   "source": [
    "import pandas as pd\n",
    "import numpy as np\n",
    "import matplotlib.pyplot as plt\n",
    "%matplotlib inline\n",
    "df_run = pd.read_csv(\"run_optimizing.csv\", sep=',', header=0)\n",
    "run=np.asarray(df_run.loc[:,['step','loss','kinetic_energy', 'total_energy']])\n",
    "plt.scatter(run[:,0], run[:,1])\n",
    "#plt.savefig('loss-step.png', bbox_inches='tight')\n",
    "plt.show()\n"
   ]
  },
  {
   "cell_type": "code",
   "execution_count": null,
   "metadata": {
    "collapsed": true
   },
   "outputs": [],
   "source": []
  }
 ],
 "metadata": {
  "kernelspec": {
   "display_name": "Python 3",
   "language": "python",
   "name": "python3"
  },
  "language_info": {
   "codemirror_mode": {
    "name": "ipython",
    "version": 3
   },
   "file_extension": ".py",
   "mimetype": "text/x-python",
   "name": "python",
   "nbconvert_exporter": "python",
   "pygments_lexer": "ipython3",
   "version": "3.6.1"
  }
 },
 "nbformat": 4,
 "nbformat_minor": 2
}
