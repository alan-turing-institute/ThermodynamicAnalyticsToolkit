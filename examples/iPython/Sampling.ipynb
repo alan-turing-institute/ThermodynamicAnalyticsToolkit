{
 "cells": [
  {
   "cell_type": "markdown",
   "metadata": {},
   "source": [
    "# Sampling\n",
    "Sampling the loss manifold using GLA 2nd\n"
   ]
  },
  {
   "cell_type": "code",
   "execution_count": 9,
   "metadata": {
    "collapsed": true
   },
   "outputs": [],
   "source": [
    "import sys\n",
    "sys.path.append('/Users/zofia/packages/DataDrivenSampler-0.3/lib/python3.6/site-packages')"
   ]
  },
  {
   "cell_type": "code",
   "execution_count": 10,
   "metadata": {},
   "outputs": [
    {
     "name": "stdout",
     "output_type": "stream",
     "text": [
      "Parsing ['dataset-twoclusters.csv']\n",
      "(TensorShape([Dimension(None), Dimension(2)]), TensorShape([Dimension(None), Dimension(1)]))\n",
      "(tf.float32, tf.int32)\n",
      "Picking as input columns: ['x1', 'x2']\n",
      "x is (?, 2)\n",
      "Creating nn layer output with 2, 1\n",
      "Setting up output files for sample\n",
      "Weight: <tf.Variable 'output/weights/Variable:0' shape=(2, 1) dtype=float64_ref>\n",
      "Placeholder: Tensor(\"Placeholder:0\", shape=(2, 1), dtype=float64)\n",
      "Weight: <tf.Variable 'output/biases/Variable:0' shape=(1,) dtype=float64_ref>\n",
      "Placeholder: Tensor(\"Placeholder_1:0\", shape=(1,), dtype=float64)\n",
      "Starting to sample\n",
      "SAMPLED.\n",
      "Sample results\n",
      "[[1.0 0.0 '0.000' '4.16186523e+00' '5.25650000e-02' '4.16362175e+00'\n",
      "  '1.75651877e-03' '1.18541766e-01' '1.18541766e-01' '2.12819406e+00'\n",
      "  '0.00000000e+00' '1.75651877e-03' '2.12819406e+00']\n",
      " [2.0 1.0 '0.000' '4.14782476e+00' '9.36600000e-03' '4.16361549e+00'\n",
      "  '1.57907237e-02' '2.36881630e-01' '1.18339864e-01' '2.11757114e+00'\n",
      "  '0.00000000e+00' '8.77362125e-03' '2.12288260e+00']\n",
      " [3.0 2.0 '0.000' '4.11984015e+00' '7.40500000e-03' '4.16360371e+00'\n",
      "  '4.37635620e-02' '3.54818037e-01' '1.17936408e-01' '2.09641514e+00'\n",
      "  '0.00000000e+00' '2.04369348e-02' '2.11406011e+00']\n",
      " [4.0 3.0 '0.000' '4.07810116e+00' '7.03900000e-03' '4.16358570e+00'\n",
      "  '8.54845409e-02' '4.72150116e-01' '1.17332079e-01' '2.06490490e+00'\n",
      "  '0.00000000e+00' '3.66988364e-02' '2.10177131e+00']\n",
      " [5.0 4.0 '0.000' '4.02289295e+00' '6.98500000e-03' '4.16356250e+00'\n",
      "  '1.40669543e-01' '5.88678025e-01' '1.16527910e-01' '2.02330728e+00'\n",
      "  '0.00000000e+00' '5.74929777e-02' '2.08607850e+00']\n",
      " [6.0 5.0 '0.000' '3.95459056e+00' '7.21600000e-03' '4.16353332e+00'\n",
      "  '2.08942762e-01' '7.04203290e-01' '1.15525267e-01' '1.97197501e+00'\n",
      "  '0.00000000e+00' '8.27346084e-02' '2.06706126e+00']\n",
      " [7.0 6.0 '0.000' '3.87365985e+00' '7.14100000e-03' '4.16349911e+00'\n",
      "  '2.89839262e-01' '8.18529155e-01' '1.14325870e-01' '1.91134450e+00'\n",
      "  '0.00000000e+00' '1.12320988e-01' '2.04481600e+00']\n",
      " [8.0 7.0 '0.000' '3.78065109e+00' '6.97600000e-03' '4.16345924e+00'\n",
      "  '3.82808150e-01' '9.31460903e-01' '1.12931756e-01' '1.84193218e+00'\n",
      "  '0.00000000e+00' '1.46131883e-01' '2.01945553e+00']\n",
      " [9.0 8.0 '0.000' '3.67619848e+00' '6.80100000e-03' '4.16341480e+00'\n",
      "  '4.87216319e-01' '1.04280619e+00' '1.11345300e-01' '1.76433122e+00'\n",
      "  '0.00000000e+00' '1.84030154e-01' '1.99110838e+00']\n",
      " [10.0 9.0 '0.000' '3.56101298e+00' '7.04600000e-03' '4.16336574e+00'\n",
      "  '6.02352761e-01' '1.15237537e+00' '1.09569204e-01' '1.67920718e+00'\n",
      "  '0.00000000e+00' '2.25862414e-01' '1.95991826e+00']]\n",
      "[[1.0 '4.16186523e+00' '-1.36184533e-01' '-3.63086183e-01' '1.00000000e-01']\n",
      " [2.0 '4.14782476e+00' '-1.35375544e-01' '-3.62219769e-01' '9.99911607e-02']\n",
      " [3.0 '4.11984015e+00' '-1.33758950e-01' '-3.60488411e-01' '9.99734758e-02']\n",
      " [4.0 '4.07810116e+00' '-1.31337515e-01' '-3.57895047e-01' '9.99469329e-02']\n",
      " [5.0 '4.02289295e+00' '-1.28115381e-01' '-3.54444081e-01' '9.99115134e-02']\n",
      " [6.0 '3.95459056e+00' '-1.24098057e-01' '-3.50141369e-01' '9.98671924e-02']\n",
      " [7.0 '3.87365985e+00' '-1.19292415e-01' '-3.44994215e-01' '9.98139393e-02']\n",
      " [8.0 '3.78065109e+00' '-1.13706673e-01' '-3.39011355e-01' '9.97517170e-02']\n",
      " [9.0 '3.67619848e+00' '-1.07350384e-01' '-3.32202945e-01' '9.96804828e-02']\n",
      " [10.0 '3.56101298e+00' '-1.00234419e-01' '-3.24580539e-01'\n",
      "  '9.96001880e-02']]\n"
     ]
    }
   ],
   "source": [
    "from DataDrivenSampler.models.model import model\n",
    "import numpy as np\n",
    "FLAGS = model.setup_parameters(\n",
    "    batch_data_files=[\"dataset-twoclusters.csv\"],\n",
    "    batch_size=500,\n",
    "    max_steps=1000,\n",
    "    output_activation=\"linear\",\n",
    "    sampler=\"GeometricLangevinAlgorithm_2ndOrder\",\n",
    "    seed=426,\n",
    "    step_width=1e-2\n",
    ")\n",
    "nn = model(FLAGS)\n",
    "nn.init_network(None, setup=\"sample\")\n",
    "run_info, trajectory = nn.sample(return_run_info=True, \\\n",
    "  return_trajectories=True)\n",
    "nn.finish()\n",
    "print(\"Sample results\")\n",
    "print(np.asarray(run_info[0:10]))\n",
    "print(np.asarray(trajectory[0:10]))"
   ]
  },
  {
   "cell_type": "code",
   "execution_count": 11,
   "metadata": {
    "collapsed": true
   },
   "outputs": [],
   "source": [
    "import pandas as pd \n",
    "df = pd.DataFrame(trajectory)\n",
    "df.to_csv(\"run_gla2.csv\")"
   ]
  },
  {
   "cell_type": "code",
   "execution_count": null,
   "metadata": {
    "collapsed": true
   },
   "outputs": [],
   "source": [
    "import pandas as pd\n",
    "import numpy as np\n",
    "import matplotlib.pyplot as plt\n",
    "%matplotlib inline\n",
    "df_run = pd.read_csv(\"run_gla2.csv\", sep=',', header=0)\n",
    "run=np.asarray(df_run.loc[:,['step','loss','kinetic_energy', 'total_energy']])\n",
    "plt.scatter(run[:,0], run[:,1])\n",
    "#plt.savefig('loss-step.png', bbox_inches='tight')\n",
    "plt.show()\n"
   ]
  },
  {
   "cell_type": "markdown",
   "metadata": {},
   "source": [
    "# Averages"
   ]
  },
  {
   "cell_type": "code",
   "execution_count": 23,
   "metadata": {},
   "outputs": [
    {
     "name": "stdout",
     "output_type": "stream",
     "text": [
      "Trajectory has shape (1000, 3)\n"
     ]
    },
    {
     "data": {
      "image/png": "[encoded data removed]",
      "text/plain": [
       "<matplotlib.figure.Figure at 0x10e422550>"
      ]
     },
     "metadata": {},
     "output_type": "display_data"
    }
   ],
   "source": [
    "import pandas as pd\n",
    "import numpy as np\n",
    "import matplotlib.pyplot as plt\n",
    "%matplotlib inline\n",
    "\n",
    "from DataDrivenSampler.models.model import model\n",
    "\n",
    "FLAGS = model.setup_parameters(\n",
    "            trajectory_file=\"run_gla2.csv\"\n",
    ")\n",
    "df_trajectory = pd.read_csv(FLAGS.trajectory_file, sep=',',header=0)\n",
    "# check in which columns the weights are stores\n",
    "#display(df_trajectory)\n",
    "# save weigths only\n",
    "traj=np.asarray(df_trajectory.values[:,3:])\n",
    "print('Trajectory has shape '+repr(traj.shape))\n",
    "conv=np.zeros(traj.shape)\n",
    "\n",
    "# then we plot the running averages of the parameters\n",
    "# inside weights\n",
    "for i in range(1,traj.shape[0]):\n",
    "    for d in range(traj.shape[1]):\n",
    "        conv[i,d]=np.mean(traj[:i,d])\n",
    "[plt.scatter(range(len(traj)), conv[:,i]) for i in range(traj.shape[1])]\n",
    "plt.xlabel('step')\n",
    "plt.ylabel('Average')\n",
    "\n",
    "plt.legend(df_trajectory.axes[1][-3:])\n",
    "#plt.savefig('step-parameters.png', bbox_inches='tight')\n",
    "plt.show()\n"
   ]
  },
  {
   "cell_type": "markdown",
   "metadata": {},
   "source": [
    "# Optimizing first and subsequent sampling\n",
    "This is actually the recommended way of doing sampling: First make sure that the parameters start in a local minima and from there we explore the surrounding manifold."
   ]
  },
  {
   "cell_type": "code",
   "execution_count": 24,
   "metadata": {},
   "outputs": [
    {
     "name": "stdout",
     "output_type": "stream",
     "text": [
      "Parsing ['dataset-twoclusters.csv']\n",
      "(TensorShape([Dimension(None), Dimension(2)]), TensorShape([Dimension(None), Dimension(1)]))\n",
      "(tf.float32, tf.int32)\n",
      "Picking as input columns: ['x1', 'x2']\n",
      "x is (?, 2)\n",
      "Creating nn layer output with 2, 1\n",
      "Setting up output files for train\n",
      "Weight: <tf.Variable 'output/weights/Variable:0' shape=(2, 1) dtype=float64_ref>\n",
      "Placeholder: Tensor(\"Placeholder:0\", shape=(2, 1), dtype=float64)\n",
      "Weight: <tf.Variable 'output/biases/Variable:0' shape=(1,) dtype=float64_ref>\n",
      "Placeholder: Tensor(\"Placeholder_1:0\", shape=(1,), dtype=float64)\n",
      "Starting to train\n",
      "TRAINED down to loss 0.0293163 and accuracy 1.0.\n",
      "Setting up output files for sample\n",
      "Weight: <tf.Variable 'output/weights/Variable:0' shape=(2, 1) dtype=float64_ref>\n",
      "Placeholder: Tensor(\"Placeholder_2:0\", shape=(2, 1), dtype=float64)\n",
      "Weight: <tf.Variable 'output/biases/Variable:0' shape=(1,) dtype=float64_ref>\n",
      "Placeholder: Tensor(\"Placeholder_3:0\", shape=(1,), dtype=float64)\n",
      "Starting to sample\n",
      "SAMPLED.\n",
      "Sample results\n",
      "[[1.0 0.0 '0.000' '4.80055332e+00' '4.20410000e-02' '4.80258170e+00'\n",
      "  '2.02837634e-03' '1.27385285e-01' '1.27385285e-01' '2.61711285e+00'\n",
      "  '0.00000000e+00' '2.02837634e-03' '2.61711285e+00']\n",
      " [2.0 1.0 '0.000' '4.78434038e+00' '1.09800000e-02' '4.80257505e+00'\n",
      "  '1.82346640e-02' '2.54553601e-01' '1.27168316e-01' '2.60457189e+00'\n",
      "  '0.00000000e+00' '1.01315202e-02' '2.61084237e+00']\n",
      " [3.0 2.0 '0.000' '4.75202465e+00' '8.95900000e-03' '4.80256152e+00'\n",
      "  '5.05368732e-02' '3.81288350e-01' '1.26734749e-01' '2.57959412e+00'\n",
      "  '0.00000000e+00' '2.35999712e-02' '2.60042629e+00']\n",
      " [4.0 3.0 '0.000' '4.70382547e+00' '6.85700000e-03' '4.80254050e+00'\n",
      "  '9.87150233e-02' '5.07373671e-01' '1.26085322e-01' '2.54238712e+00'\n",
      "  '0.00000000e+00' '4.23787342e-02' '2.58591650e+00']\n",
      " [5.0 4.0 '0.000' '4.64007282e+00' '8.14300000e-03' '4.80251384e+00'\n",
      "  '1.62441018e-01' '6.32594814e-01' '1.25221144e-01' '2.49326047e+00'\n",
      "  '0.00000000e+00' '6.63911910e-02' '2.56738529e+00']\n",
      " [6.0 5.0 '0.000' '4.56119919e+00' '7.86500000e-03' '4.80248007e+00'\n",
      "  '2.41280880e-01' '7.56738494e-01' '1.24143682e-01' '2.43262327e+00'\n",
      "  '0.00000000e+00' '9.55394726e-02' '2.54492495e+00']\n",
      " [7.0 6.0 '0.000' '4.46774197e+00' '7.00600000e-03' '4.80243967e+00'\n",
      "  '3.34697704e-01' '8.79593266e-01' '1.22854776e-01' '2.36098169e+00'\n",
      "  '0.00000000e+00' '1.29704934e-01' '2.51864735e+00']\n",
      " [8.0 7.0 '0.000' '4.36033916e+00' '7.31800000e-03' '4.80239448e+00'\n",
      "  '4.42055315e-01' '1.00094988e+00' '1.21356620e-01' '2.27893497e+00'\n",
      "  '0.00000000e+00' '1.68748732e-01' '2.48868330e+00']\n",
      " [9.0 8.0 '0.000' '4.23972034e+00' '6.85000000e-03' '4.80234295e+00'\n",
      "  '5.62622605e-01' '1.12060164e+00' '1.19651772e-01' '2.18717144e+00'\n",
      "  '0.00000000e+00' '2.12512495e-01' '2.45518198e+00']\n",
      " [10.0 9.0 '0.000' '4.10670757e+00' '6.91100000e-03' '4.80228608e+00'\n",
      "  '6.95578507e-01' '1.23834475e+00' '1.17743130e-01' '2.08646323e+00'\n",
      "  '0.00000000e+00' '2.60819097e-01' '2.41831011e+00']]\n",
      "[[1.0 '4.80055332e+00' '-1.67142382e-01' '-4.05245428e-01' '1.00000000e-01']\n",
      " [2.0 '4.78434038e+00' '-1.66273025e-01' '-4.04314379e-01' '9.99918734e-02']\n",
      " [3.0 '4.75202465e+00' '-1.64535796e-01' '-4.02453861e-01' '9.99756134e-02']\n",
      " [4.0 '4.70382547e+00' '-1.61933668e-01' '-3.99667033e-01' '9.99512059e-02']\n",
      " [5.0 '4.64007282e+00' '-1.58471090e-01' '-3.95958624e-01' '9.99186301e-02']\n",
      " [6.0 '4.56119919e+00' '-1.54153983e-01' '-3.91334930e-01' '9.98778583e-02']\n",
      " [7.0 '4.46774197e+00' '-1.48989730e-01' '-3.85803800e-01' '9.98288561e-02']\n",
      " [8.0 '4.36033916e+00' '-1.42987163e-01' '-3.79374621e-01' '9.97715821e-02']\n",
      " [9.0 '4.23972034e+00' '-1.36156547e-01' '-3.72058307e-01' '9.97059884e-02']\n",
      " [10.0 '4.10670757e+00' '-1.28509563e-01' '-3.63867277e-01'\n",
      "  '9.96320207e-02']]\n"
     ]
    }
   ],
   "source": [
    "from DataDrivenSampler.models.model import model\n",
    "import numpy as np\n",
    "FLAGS = model.setup_parameters(\n",
    "batch_data_files=[\"dataset-twoclusters.csv\"],\n",
    "            batch_size=500,\n",
    "            max_steps=100,\n",
    "            optimizer=\"GradientDescent\",\n",
    "            output_activation=\"linear\",\n",
    "            seed=426,\n",
    "            step_width=1e-2\n",
    "        )\n",
    "nn = model(FLAGS)\n",
    "nn.init_network(None, setup=\"train\")\n",
    "opt_run_info, opt_trajectory = nn.train( return_run_info=True, return_trajectories=True)\n",
    "FLAGS.max_steps = 1000\n",
    "FLAGS.sampler = \"GeometricLangevinAlgorithm_2ndOrder\"\n",
    "nn.reset_parameters(FLAGS)\n",
    "nn.init_network(None, setup=\"sample\")\n",
    "# reset the dataset to make it start at the beginning again\n",
    "# otherwise you get error: epoch ended to early!\n",
    "nn.reset_dataset()\n",
    "\n",
    "sample_run_info, sample_trajectory = nn.sample( return_run_info=True, return_trajectories=True)\n",
    "nn.finish()\n",
    "print(\"Sample results\")\n",
    "print(np.asarray(sample_run_info[0:10]))\n",
    "print(np.asarray(sample_trajectory[0:10]))\n"
   ]
  },
  {
   "cell_type": "code",
   "execution_count": 25,
   "metadata": {
    "collapsed": true
   },
   "outputs": [],
   "source": [
    "import pandas as pd \n",
    "df = pd.DataFrame(sample_trajectory)\n",
    "df.to_csv(\"run_gla2_optimizeFirst.csv\")"
   ]
  },
  {
   "cell_type": "code",
   "execution_count": 26,
   "metadata": {},
   "outputs": [
    {
     "data": {
      "image/png": "[encoded data removed]",
      "text/plain": [
       "<matplotlib.figure.Figure at 0x12309e588>"
      ]
     },
     "metadata": {},
     "output_type": "display_data"
    }
   ],
   "source": [
    "import pandas as pd\n",
    "import numpy as np\n",
    "import matplotlib.pyplot as plt\n",
    "%matplotlib inline\n",
    "df_run = pd.read_csv(\"run_gla2_optimizeFirst.csv\", sep=',', header=0)\n",
    "run=np.asarray(df_run.loc[:,['step','loss','kinetic_energy', 'total_energy']])\n",
    "plt.scatter(run[:,0], run[:,1])\n",
    "#plt.savefig('loss-step.png', bbox_inches='tight')\n",
    "plt.show()\n",
    "\n"
   ]
  },
  {
   "cell_type": "markdown",
   "metadata": {},
   "source": [
    "# Averages"
   ]
  },
  {
   "cell_type": "code",
   "execution_count": 27,
   "metadata": {},
   "outputs": [
    {
     "name": "stdout",
     "output_type": "stream",
     "text": [
      "Trajectory has shape (1000, 3)\n"
     ]
    },
    {
     "data": {
      "image/png": "[encoded data removed]",
      "text/plain": [
       "<matplotlib.figure.Figure at 0x12284e6d8>"
      ]
     },
     "metadata": {},
     "output_type": "display_data"
    }
   ],
   "source": [
    "import pandas as pd\n",
    "import numpy as np\n",
    "import matplotlib.pyplot as plt\n",
    "%matplotlib inline\n",
    "\n",
    "from DataDrivenSampler.models.model import model\n",
    "\n",
    "FLAGS = model.setup_parameters(\n",
    "            trajectory_file=\"run_gla2_optimizeFirst.csv\"\n",
    ")\n",
    "df_trajectory = pd.read_csv(FLAGS.trajectory_file, sep=',',header=0)\n",
    "# check in which columns the weights are stores\n",
    "#display(df_trajectory)\n",
    "# save weigths only\n",
    "traj=np.asarray(df_trajectory.values[:,3:])\n",
    "print('Trajectory has shape '+repr(traj.shape))\n",
    "conv=np.zeros(traj.shape)\n",
    "\n",
    "# then we plot the running averages of the parameters\n",
    "# inside weights\n",
    "for i in range(1,traj.shape[0]):\n",
    "    for d in range(traj.shape[1]):\n",
    "        conv[i,d]=np.mean(traj[:i,d])\n",
    "[plt.scatter(range(len(traj)), conv[:,i]) for i in range(traj.shape[1])]\n",
    "plt.xlabel('step')\n",
    "plt.ylabel('Average')\n",
    "\n",
    "plt.legend(df_trajectory.axes[1][-3:])\n",
    "#plt.savefig('step-parameters.png', bbox_inches='tight')\n",
    "plt.show()\n",
    "\n",
    "\n",
    "\n",
    "\n"
   ]
  },
  {
   "cell_type": "code",
   "execution_count": null,
   "metadata": {
    "collapsed": true
   },
   "outputs": [],
   "source": []
  }
 ],
 "metadata": {
  "kernelspec": {
   "display_name": "Python 3",
   "language": "python",
   "name": "python3"
  },
  "language_info": {
   "codemirror_mode": {
    "name": "ipython",
    "version": 3
   },
   "file_extension": ".py",
   "mimetype": "text/x-python",
   "name": "python",
   "nbconvert_exporter": "python",
   "pygments_lexer": "ipython3",
   "version": "3.6.1"
  }
 },
 "nbformat": 4,
 "nbformat_minor": 2
}
