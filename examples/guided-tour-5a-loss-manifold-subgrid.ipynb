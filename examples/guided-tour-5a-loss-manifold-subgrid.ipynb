{
 "cells": [
  {
   "cell_type": "markdown",
   "metadata": {},
   "source": [
    "#### Sampling on a subgrid\n",
    "\n",
    "This works for very small networks. Typical real-world networks have far too many degrees of freedom.\n",
    "\n",
    "However, we can select a subspace to grid and evaluate. This involves the grid sampling mode \"naive_subgrid\".\n",
    "\n",
    "The subspace is defined by a set of vectors that span it."
   ]
  },
  {
   "cell_type": "code",
   "execution_count": 2,
   "metadata": {},
   "outputs": [],
   "source": [
    "import sys\n",
    "sys.path.insert(1, '/home/heber/packages/TATi-unstable/lib/python3.5/site-packages')"
   ]
  },
  {
   "cell_type": "code",
   "execution_count": 6,
   "metadata": {},
   "outputs": [],
   "source": [
    "from TATi.options.pythonoptions import PythonOptions\n",
    "from TATi.model import Model as tati\n",
    "\n",
    "options = PythonOptions()\n",
    "options.set_options(\n",
    "    batch_data_files=[\"dataset-twoclusters.csv\"],\n",
    "    fix_parameters=\"output/biases/Variable:0=-0.045677684\",\n",
    "    output_activation=\"linear\",\n",
    "    learning_rate=0.1,\n",
    "    loss=\"mean_squared\",\n",
    "    max_steps=1,\n",
    "    seed=426)\n",
    "\n",
    "nn = tati(options)\n",
    "nn.init_input_pipeline()\n",
    "nn.init_network(None, setup=None)"
   ]
  },
  {
   "cell_type": "code",
   "execution_count": 8,
   "metadata": {},
   "outputs": [],
   "source": [
    "from TATi.samplers.grid.samplingmodes import SamplingModes\n",
    "\n",
    "more_options = {\n",
    "    \"exclude_parameters\": [],\n",
    "    \"samples_weights\": 10,\n",
    "    \"samples_biases\": 1,\n",
    "    \"interval_weights\": [-1,1],\n",
    "    \"interval_biases\": [-1,1],\n",
    "}\n",
    "for k,v in more_options.items():\n",
    "    if not k in options:\n",
    "        options.add(k)\n",
    "    options.set(k, v)"
   ]
  },
  {
   "cell_type": "code",
   "execution_count": 10,
   "metadata": {},
   "outputs": [],
   "source": [
    "from TATi.samplers.grid.subgridsampler import SubgridSampler\n",
    "import numpy as np\n",
    "\n",
    "# create a subgrid sampler class\n",
    "subgrid_sampler = SubgridSampler(\n",
    "    network_model=nn, \n",
    "    exclude_parameters=[], \n",
    "    samples_weights=options.samples_weights,\n",
    "    degrees=[\"x1\", \"x2\"],\n",
    "    directions=np.asarray([[1.,0.]])\n",
    ")\n",
    "\n",
    "subgrid_sampler.setup_start(\n",
    "    trajectory_file=None,\n",
    "    trajectory_stepnr=None,\n",
    "    interval_weights=options.interval_weights,\n",
    "    interval_offsets=[])\n",
    "\n",
    "# we need to set max_steps to the number of grid points\n",
    "options.max_steps=subgrid_sampler.get_max_steps()\n",
    "nn.reset_parameters(options)\n",
    "\n",
    "# and re-create the input pipeline such that enough batches are present\n",
    "nn.init_input_pipeline()\n",
    "nn.reset_dataset()"
   ]
  },
  {
   "cell_type": "markdown",
   "metadata": {},
   "source": [
    "We sample using the same loop as before."
   ]
  },
  {
   "cell_type": "code",
   "execution_count": 12,
   "metadata": {},
   "outputs": [],
   "source": [
    "import numpy as np\n",
    "\n",
    "def sample_grid(grid_sampler): \n",
    "    # set the sampler to the start of the grid\n",
    "    grid_sampler.goto_start()\n",
    "\n",
    "    # iterate over every grid point\n",
    "    coords = []\n",
    "    losses = []\n",
    "    for i in range(options.max_steps):\n",
    "        coords_eval = np.asarray(grid_sampler.set_step())\n",
    "        loss_eval, acc_eval = grid_sampler.evaluate_loss()\n",
    "        coords.append(coords_eval)\n",
    "        losses.append(loss_eval)\n",
    "        grid_sampler.goto_next_step()\n",
    "    \n",
    "    samples = np.zeros((len(coords),coords[0].shape[0]+1))\n",
    "    samples[:,:-1] = np.asarray(coords)\n",
    "    samples[:,-1:] = np.asarray(losses)\n",
    "    return np.asarray(samples)"
   ]
  },
  {
   "cell_type": "code",
   "execution_count": 13,
   "metadata": {},
   "outputs": [],
   "source": [
    "subgrid_samples = sample_grid(subgrid_sampler)"
   ]
  },
  {
   "cell_type": "code",
   "execution_count": 14,
   "metadata": {},
   "outputs": [
    {
     "data": {
      "image/png": "[encoded data removed]",
      "text/plain": [
       "<Figure size 432x288 with 1 Axes>"
      ]
     },
     "metadata": {
      "needs_background": "light"
     },
     "output_type": "display_data"
    }
   ],
   "source": [
    "%matplotlib inline\n",
    "import matplotlib.pyplot as plt\n",
    "import numpy as np\n",
    "\n",
    "plt.plot(subgrid_samples[:,0], subgrid_samples[:,1].astype(float))\n",
    "plt.xlabel(\"x1\")\n",
    "plt.ylabel(\"Loss\")\n",
    "plt.show()"
   ]
  },
  {
   "cell_type": "code",
   "execution_count": null,
   "metadata": {},
   "outputs": [],
   "source": []
  }
 ],
 "metadata": {
  "kernelspec": {
   "display_name": "Python 3",
   "language": "python",
   "name": "python3"
  },
  "language_info": {
   "codemirror_mode": {
    "name": "ipython",
    "version": 3
   },
   "file_extension": ".py",
   "mimetype": "text/x-python",
   "name": "python",
   "nbconvert_exporter": "python",
   "pygments_lexer": "ipython3",
   "version": "3.5.6"
  }
 },
 "nbformat": 4,
 "nbformat_minor": 2
}
