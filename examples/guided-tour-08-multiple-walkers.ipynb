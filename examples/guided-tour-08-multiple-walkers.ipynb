{
 "cells": [
  {
   "cell_type": "markdown",
   "metadata": {},
   "source": [
    "### Multiple walkers\n",
    "\n",
    "It is possible to have multiple replicas of the neural network, each with its distinct parameter set.\n",
    "\n",
    "This allows writing even more advanced sampling routines that may exchange information between walkers."
   ]
  },
  {
   "cell_type": "code",
   "execution_count": null,
   "metadata": {},
   "outputs": [],
   "source": [
    "import TATi.simulation as tati"
   ]
  },
  {
   "cell_type": "markdown",
   "metadata": {},
   "source": [
    "The essential option is `number_walkers`. If larger than 1, then we have multiple copies of the network."
   ]
  },
  {
   "cell_type": "code",
   "execution_count": null,
   "metadata": {},
   "outputs": [],
   "source": [
    "nn = tati(batch_data_files=[\"dataset-twoclusters.csv\"],\n",
    "          friction_constant=1.,\n",
    "          inverse_temperature=10.,\n",
    "          learning_rate=0.1,\n",
    "          loss=\"mean_squared\",\n",
    "          max_steps=100,\n",
    "          number_walkers=2,\n",
    "          output_activation=\"linear\",\n",
    "          sampler=\"BAOAB\",\n",
    "          seed=426,\n",
    "          step_width=0.1)"
   ]
  },
  {
   "cell_type": "markdown",
   "metadata": {},
   "source": [
    "Let us check that each have distinct parameter sets and start at different initially random positions."
   ]
  },
  {
   "cell_type": "code",
   "execution_count": null,
   "metadata": {},
   "outputs": [],
   "source": [
    "print(nn.parameters)"
   ]
  },
  {
   "cell_type": "markdown",
   "metadata": {},
   "source": [
    "As you see, `nn.parameters` suddenly returns a list with two entries, one per walker.\n",
    "\n",
    "Moreover, we see that indeed each walker starts at a different position.\n",
    "\n",
    "Let us sample and look at the trajectories."
   ]
  },
  {
   "cell_type": "code",
   "execution_count": null,
   "metadata": {},
   "outputs": [],
   "source": [
    "sampling_data = nn.sample()"
   ]
  },
  {
   "cell_type": "code",
   "execution_count": null,
   "metadata": {},
   "outputs": [],
   "source": [
    "%matplotlib inline\n",
    "import matplotlib.pyplot as plt\n",
    "import numpy as np\n",
    "import matplotlib.cm as cm\n",
    "\n",
    "# again use sampled grid as background\n",
    "sampled_grid = np.loadtxt(\"loss-grid.csv\", delimiter=\",\", skiprows=0)\n",
    "\n",
    "# get trajectories as list of numpy arrays\n",
    "trajectories = [sampling_data.trajectory[i][['weight0','weight1']].values for i in range(nn.get_options(\"number_walkers\"))]\n",
    "\n",
    "plt.scatter(sampled_grid[:,0], sampled_grid[:,1], c=sampled_grid[:,2], s=sampled_grid[:,2]*4, cmap=cm.coolwarm)\n",
    "colors = ['b','r']\n",
    "for i in range(nn.get_options(\"number_walkers\")):\n",
    "    plt.plot(trajectories[i][:,0], trajectories[i][:,1], colors[i])\n",
    "plt.xlabel(\"w1\")\n",
    "plt.ylabel(\"w2\")\n",
    "plt.show()"
   ]
  },
  {
   "cell_type": "markdown",
   "metadata": {},
   "source": [
    "### Summary\n",
    "\n",
    "- `Simulation` supports multiple walkers easily through the options key `number_walkers`\n",
    "- `parameters`, `loss()`, `gradients()` and reĺated objects becomes list with one entry per walker\n"
   ]
  }
 ],
 "metadata": {
  "kernelspec": {
   "display_name": "Python 3",
   "language": "python",
   "name": "python3"
  },
  "language_info": {
   "codemirror_mode": {
    "name": "ipython",
    "version": 3
   },
   "file_extension": ".py",
   "mimetype": "text/x-python",
   "name": "python",
   "nbconvert_exporter": "python",
   "pygments_lexer": "ipython3",
   "version": "3.5.6"
  }
 },
 "nbformat": 4,
 "nbformat_minor": 2
}
