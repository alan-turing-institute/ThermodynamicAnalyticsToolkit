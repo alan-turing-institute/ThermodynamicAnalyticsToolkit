{
 "cells": [
  {
   "cell_type": "markdown",
   "metadata": {},
   "source": [
    "# A guided tour through TATi\n",
    "\n",
    "The *Thermodynamic Analytics Toolkit (TATi)* allows to perform thermodynamic sampling\n",
    "and analysis of large neural network loss manifolds. It extends\n",
    " [Tensorflow](https://www.tensorflow.org/) by several samplers, by a framework\n",
    "to rapidly prototype new samplers, by the capability to sample several networks\n",
    "in parallel and provides tools for analysis and visualization of loss\n",
    "manifolds.\n",
    "We rely  on the Python programming language as only for that Tensorflow's\n",
    "interface has an [API stability promise](https://www.tensorflow.org/api_docs/).\n",
    "\n",
    "## Preliminaries\n",
    "\n",
    "First of all, let's make sure tensorflow is installed on your local system."
   ]
  },
  {
   "cell_type": "code",
   "execution_count": 1,
   "metadata": {},
   "outputs": [
    {
     "name": "stdout",
     "output_type": "stream",
     "text": [
      "1.4.1\n"
     ]
    }
   ],
   "source": [
    "import tensorflow as tf\n",
    "print(tf.__version__)"
   ]
  },
  {
   "cell_type": "markdown",
   "metadata": {},
   "source": [
    "This should say *1.4.1* or above (current version is 1.12).\n",
    "\n",
    "Furthermore, let's check your version of TATi."
   ]
  },
  {
   "cell_type": "code",
   "execution_count": 4,
   "metadata": {},
   "outputs": [
    {
     "name": "stdout",
     "output_type": "stream",
     "text": [
      "0.9.3\n"
     ]
    }
   ],
   "source": [
    "import TATi as tati\n",
    "print(tati.__version__)"
   ]
  },
  {
   "cell_type": "markdown",
   "metadata": {},
   "source": [
    "This should say *0.9.3* or above."
   ]
  },
  {
   "cell_type": "markdown",
   "metadata": {},
   "source": [
    "## Topics of the tour\n",
    "\n",
    "1. Setting up a perceptrons as the neural network\n",
    "2. Feeding in the dataset\n",
    "3. Evaluating loss, gradients and related objects\n",
    "4. Training the network\n",
    "5. Looking at the loss manifold\n",
    "6. Sampling the loss manifold\n",
    "7. Sampler properties\n"
   ]
  },
  {
   "cell_type": "code",
   "execution_count": null,
   "metadata": {},
   "outputs": [],
   "source": []
  }
 ],
 "metadata": {
  "kernelspec": {
   "display_name": "Python 3",
   "language": "python",
   "name": "python3"
  },
  "language_info": {
   "codemirror_mode": {
    "name": "ipython",
    "version": 3
   },
   "file_extension": ".py",
   "mimetype": "text/x-python",
   "name": "python",
   "nbconvert_exporter": "python",
   "pygments_lexer": "ipython3",
   "version": "3.5.6"
  }
 },
 "nbformat": 4,
 "nbformat_minor": 1
}
