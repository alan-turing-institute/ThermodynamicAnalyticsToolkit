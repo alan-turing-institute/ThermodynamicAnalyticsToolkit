{
 "cells": [
  {
   "cell_type": "markdown",
   "metadata": {},
   "source": [
    "### Different network topologies\n",
    "\n",
    "Although perceptron still form the core of many network topologies, they are not the only type:\n",
    "\n",
    "- Recurrent Neural Networks\n",
    "- Convoluted Neural Networks\n",
    "\n",
    "In TATi we construct the network from the bottom-up in order to ensure that its internally used random numbers are reproducible given a specific external **seed**. This is not given by tensorflow alone, also not by using `keras`. Whenever, TATi's graph changes, all the random numbers would change, too. This makes testing impossible.\n",
    "\n",
    "In principle, new topologies can be added simply by adding a class similar to `MultiLayerPerceptron` contained in the module `TATi.models.networks.multilayerperceptron`. Its `create()` function takes the input layer and returns the output layer. Variables created in hidden layers are automatically added to tensorflow-internal collections such that its knows which variables to use when differentiating.\n",
    "\n",
    "Moreover, options are needed to control what type of network is to be set up. Possibly, the new networks needs options itself as well. These need to be added to `TATi.options.pythonoptions` and `TATi.options.commandlineoptions`. Finally, `TATi.simulation` has an internal list which option affects which part of the network.\n",
    "\n",
    "Apart from that change, nothing else is needed."
   ]
  },
  {
   "cell_type": "code",
   "execution_count": null,
   "metadata": {},
   "outputs": [],
   "source": []
  }
 ],
 "metadata": {
  "kernelspec": {
   "display_name": "Python 3",
   "language": "python",
   "name": "python3"
  },
  "language_info": {
   "codemirror_mode": {
    "name": "ipython",
    "version": 3
   },
   "file_extension": ".py",
   "mimetype": "text/x-python",
   "name": "python",
   "nbconvert_exporter": "python",
   "pygments_lexer": "ipython3",
   "version": "3.5.6"
  }
 },
 "nbformat": 4,
 "nbformat_minor": 2
}
