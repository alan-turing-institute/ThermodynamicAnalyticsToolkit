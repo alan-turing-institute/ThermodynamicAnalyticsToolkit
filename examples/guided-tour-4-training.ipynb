{
 "cells": [
  {
   "cell_type": "markdown",
   "metadata": {},
   "source": [
    "### Training a neural network\n",
    "\n",
    "Training in supervised learning is about finding a parameter set (weights and biases) for the neural network that such at best all labels of a labeled dataset are reproduced.\n",
    "\n",
    "Having the network set up and provided a dataset to use for *supervised learning*, we are now in the position to train our network.\n",
    "\n",
    "The training method is controlled by the option key `optimizer`. By default it's set to *GradientDescent*.\n",
    "\n",
    "Moreover, the following options control the training:\n",
    "\n",
    "- `batch_size` : if smaller than the dataset dimension, then we get Stochastic Gradient Descent (SGD)\n",
    "- `learning_rate` : learning rate to use for training, i.e. scaling the gradient per step\n",
    "- `loss` : type of training function to use\n",
    "- `max_steps` : fixed amount of training steps to execute\n",
    "- `seed` : influencing the random starting parameter choice"
   ]
  },
  {
   "cell_type": "markdown",
   "metadata": {},
   "source": [
    "#### Different loss functions\n",
    "\n",
    "Loss functions available in tensorflow are also available in `tati`. We can get a list as follows."
   ]
  },
  {
   "cell_type": "code",
   "execution_count": 12,
   "metadata": {},
   "outputs": [
    {
     "ename": "AttributeError",
     "evalue": "type object 'Simulation' has no attribute 'get_losses'",
     "output_type": "error",
     "traceback": [
      "\u001b[0;31m---------------------------------------------------------------------------\u001b[0m",
      "\u001b[0;31mAttributeError\u001b[0m                            Traceback (most recent call last)",
      "\u001b[0;32m<ipython-input-12-c18b36fe869f>\u001b[0m in \u001b[0;36m<module>\u001b[0;34m\u001b[0m\n\u001b[1;32m      1\u001b[0m \u001b[0;32mimport\u001b[0m \u001b[0mTATi\u001b[0m\u001b[0;34m.\u001b[0m\u001b[0msimulation\u001b[0m \u001b[0;32mas\u001b[0m \u001b[0mtati\u001b[0m\u001b[0;34m\u001b[0m\u001b[0;34m\u001b[0m\u001b[0m\n\u001b[1;32m      2\u001b[0m \u001b[0;34m\u001b[0m\u001b[0m\n\u001b[0;32m----> 3\u001b[0;31m \u001b[0mprint\u001b[0m\u001b[0;34m(\u001b[0m\u001b[0mtati\u001b[0m\u001b[0;34m.\u001b[0m\u001b[0mget_losses\u001b[0m\u001b[0;34m(\u001b[0m\u001b[0;34m)\u001b[0m\u001b[0;34m)\u001b[0m\u001b[0;34m\u001b[0m\u001b[0;34m\u001b[0m\u001b[0m\n\u001b[0m",
      "\u001b[0;31mAttributeError\u001b[0m: type object 'Simulation' has no attribute 'get_losses'"
     ]
    }
   ],
   "source": [
    "import TATi.simulation as tati\n",
    "\n",
    "print(tati.get_losses())"
   ]
  },
  {
   "cell_type": "markdown",
   "metadata": {},
   "source": [
    "#### Performing the fit"
   ]
  },
  {
   "cell_type": "markdown",
   "metadata": {},
   "source": [
    "Let us use simple *mean_squared* for the moment to train a network on the provided dataset."
   ]
  },
  {
   "cell_type": "code",
   "execution_count": 13,
   "metadata": {},
   "outputs": [
    {
     "name": "stdout",
     "output_type": "stream",
     "text": [
      "0.021974375\n"
     ]
    }
   ],
   "source": [
    "nn = tati(batch_data_files=[\"dataset-twoclusters.csv\"],\n",
    "          output_activation=\"linear\",\n",
    "          learning_rate=0.1,\n",
    "          loss=\"mean_squared\",\n",
    "          max_steps=100,\n",
    "          seed=426)\n",
    "training_data = nn.fit()\n",
    "print(nn.loss())"
   ]
  },
  {
   "cell_type": "code",
   "execution_count": 14,
   "metadata": {},
   "outputs": [
    {
     "name": "stdout",
     "output_type": "stream",
     "text": [
      "[0.14637233, 0.32722256, -0.045677684]\n"
     ]
    }
   ],
   "source": [
    "print(nn.parameters)"
   ]
  },
  {
   "cell_type": "code",
   "execution_count": 21,
   "metadata": {
    "scrolled": true
   },
   "outputs": [
    {
     "data": {
      "image/png": "[encoded data removed]",
      "text/plain": [
       "<Figure size 432x288 with 1 Axes>"
      ]
     },
     "metadata": {
      "needs_background": "light"
     },
     "output_type": "display_data"
    }
   ],
   "source": [
    "%matplotlib inline\n",
    "import matplotlib.pyplot as plt\n",
    "import numpy as np\n",
    "\n",
    "run = np.asarray(training_data.run_info.loc[:,['step','loss']].values)\n",
    "\n",
    "plt.plot(run[:,0], run[:,1].astype(float))\n",
    "plt.xlabel(\"Training step\")\n",
    "plt.ylabel(\"Loss\")\n",
    "plt.show()"
   ]
  },
  {
   "cell_type": "markdown",
   "metadata": {},
   "source": [
    "The loss has decreased well and is close to 0.\n",
    "\n",
    "We can also look at other values."
   ]
  },
  {
   "cell_type": "code",
   "execution_count": 22,
   "metadata": {},
   "outputs": [
    {
     "name": "stdout",
     "output_type": "stream",
     "text": [
      "Index(['id', 'step', 'epoch', 'accuracy', 'loss', 'time_per_nth_step',\n",
      "       'scaled_gradient', 'virial'],\n",
      "      dtype='object')\n"
     ]
    }
   ],
   "source": [
    "print(training_data.run_info.columns)"
   ]
  },
  {
   "cell_type": "code",
   "execution_count": 23,
   "metadata": {},
   "outputs": [
    {
     "data": {
      "image/png": "[encoded data removed]",
      "text/plain": [
       "<Figure size 432x288 with 1 Axes>"
      ]
     },
     "metadata": {
      "needs_background": "light"
     },
     "output_type": "display_data"
    }
   ],
   "source": [
    "run = np.asarray(training_data.run_info.loc[:,['step','scaled_gradient']].values)\n",
    "\n",
    "plt.semilogy(run[:,0], run[:,1].astype(float))\n",
    "plt.xlabel(\"Training step\")\n",
    "plt.ylabel(\"Scale of gradient\")\n",
    "plt.show()"
   ]
  },
  {
   "cell_type": "code",
   "execution_count": null,
   "metadata": {},
   "outputs": [],
   "source": []
  }
 ],
 "metadata": {
  "kernelspec": {
   "display_name": "Python 3",
   "language": "python",
   "name": "python3"
  },
  "language_info": {
   "codemirror_mode": {
    "name": "ipython",
    "version": 3
   },
   "file_extension": ".py",
   "mimetype": "text/x-python",
   "name": "python",
   "nbconvert_exporter": "python",
   "pygments_lexer": "ipython3",
   "version": "3.6.8"
  }
 },
 "nbformat": 4,
 "nbformat_minor": 2
}
