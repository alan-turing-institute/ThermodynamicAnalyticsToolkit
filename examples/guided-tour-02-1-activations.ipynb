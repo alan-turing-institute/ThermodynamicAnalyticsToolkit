{
 "cells": [
  {
   "cell_type": "markdown",
   "metadata": {},
   "source": [
    "### Activation functions\n",
    "\n",
    "Let us take a look at the activation functions that are contained in `tf`.\n",
    "\n",
    "To this end, we use `numpy.linspace` to generate a set of equidistant points in [-1,1].\n",
    "\n",
    "Next, we instantiate a tensorflow `tf.Session` and pass the values through the tensorflow functions.\n"
   ]
  },
  {
   "cell_type": "markdown",
   "metadata": {},
   "source": [
    "We get all activations known to us directly from the internal `NeuralNetwork` class."
   ]
  },
  {
   "cell_type": "code",
   "execution_count": null,
   "metadata": {},
   "outputs": [],
   "source": [
    "import numpy as np\n",
    "import TATi as tati\n",
    "import tensorflow as tf\n",
    "%matplotlib inline\n",
    "import matplotlib.pyplot as plt\n",
    "\n",
    "# define x range\n",
    "xvals = np.linspace(-1,1,100)\n",
    "\n",
    "# create tensorflow session to get values\n",
    "sess = tf.Session()\n",
    "\n",
    "# get all known activations\n",
    "acts = tati.models.networks.neuralnetwork.NeuralNetwork.get_activations()\n",
    "\n",
    "# build up lists of y values per activation function\n",
    "yvals = []\n",
    "names = []\n",
    "for key, value in zip(acts.keys(), acts.values()):\n",
    "    yval = sess.run(value(xvals))\n",
    "    yvals.append( yval )\n",
    "    names.append( key )\n",
    "\n",
    "# plot all          \n",
    "for i in range(len(names)):\n",
    "    plt.plot(xvals, yvals[i])\n",
    "plt.legend(names)\n",
    "plt.ylabel('activation functions')\n",
    "plt.show()"
   ]
  }
 ],
 "metadata": {
  "kernelspec": {
   "display_name": "Python 3",
   "language": "python",
   "name": "python3"
  },
  "language_info": {
   "codemirror_mode": {
    "name": "ipython",
    "version": 3
   },
   "file_extension": ".py",
   "mimetype": "text/x-python",
   "name": "python",
   "nbconvert_exporter": "python",
   "pygments_lexer": "ipython3",
   "version": "3.5.6"
  }
 },
 "nbformat": 4,
 "nbformat_minor": 2
}
