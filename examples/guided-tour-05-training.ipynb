{
 "cells": [
  {
   "cell_type": "markdown",
   "metadata": {},
   "source": [
    "### Training a neural network\n",
    "\n",
    "Training in supervised learning is about finding a parameter set (weights and biases) for the neural network such that at best all labels of a labeled dataset are reproduced.\n",
    "\n",
    "Having the network set up and provided a dataset to use for *supervised learning*, we are now in the position to train our network.\n",
    "\n",
    "The training method is controlled by the option key `optimizer`. By default it's set to *GradientDescent*.\n",
    "\n",
    "Moreover, the following options control the training:\n",
    "\n",
    "- `batch_size` : if smaller than the dataset dimension, then we get Stochastic Gradient Descent (SGD)\n",
    "- `learning_rate` : learning rate to use for training, i.e. scaling the gradient per step\n",
    "- `loss` : type of training function to use\n",
    "- `max_steps` : fixed amount of training steps to execute\n",
    "- `seed` : influencing the random starting parameter choice"
   ]
  },
  {
   "cell_type": "code",
   "execution_count": 1,
   "metadata": {},
   "outputs": [],
   "source": [
    "import TATi.simulation as tati"
   ]
  },
  {
   "cell_type": "markdown",
   "metadata": {},
   "source": [
    "#### Available loss functions\n",
    "\n",
    "Loss functions available in tensorflow are also available in `tati`. We can get a list as follows."
   ]
  },
  {
   "cell_type": "code",
   "execution_count": 2,
   "metadata": {},
   "outputs": [
    {
     "name": "stdout",
     "output_type": "stream",
     "text": [
      "['mean_squared', 'log_loss', 'hinge_loss', 'cosine_distance', 'absolute_difference', 'sigmoid_cross_entropy', 'softmax_cross_entropy']\n"
     ]
    }
   ],
   "source": [
    "print(tati.get_losses())"
   ]
  },
  {
   "cell_type": "markdown",
   "metadata": {},
   "source": [
    "#### Performing the fit"
   ]
  },
  {
   "cell_type": "markdown",
   "metadata": {},
   "source": [
    "Let us use simple *mean_squared* for the moment to train a network on the provided dataset.\n",
    "\n",
    "We will be using a `learning_rate` of 0.1 which is a generally starting point. We'll be training for `max_steps` of 100 using a `seed` value of 426. Moreover, we write the trajectory to a CSV file called *training.csv*.\n",
    "\n",
    "> Even if you do everything in a single python script, it is advisable to store intermediate results to file."
   ]
  },
  {
   "cell_type": "code",
   "execution_count": 3,
   "metadata": {
    "scrolled": true
   },
   "outputs": [
    {
     "name": "stdout",
     "output_type": "stream",
     "text": [
      "id                   float64\n",
      "step                 float64\n",
      "epoch                float64\n",
      "accuracy              object\n",
      "loss                  object\n",
      "time_per_nth_step     object\n",
      "scaled_gradient       object\n",
      "virial                object\n",
      "dtype: object\n",
      "id                     int64\n",
      "step                   int64\n",
      "epoch                  int64\n",
      "accuracy             float64\n",
      "loss                 float64\n",
      "time_per_nth_step    float64\n",
      "scaled_gradient      float64\n",
      "virial               float64\n",
      "dtype: object\n",
      "id         float64\n",
      "step       float64\n",
      "loss        object\n",
      "weight0     object\n",
      "weight1     object\n",
      "bias0       object\n",
      "dtype: object\n",
      "id           int64\n",
      "step         int64\n",
      "loss       float64\n",
      "weight0    float64\n",
      "weight1    float64\n",
      "bias0      float64\n",
      "dtype: object\n",
      "id                 float64\n",
      "step               float64\n",
      "epoch              float64\n",
      "loss                object\n",
      "average_virials     object\n",
      "dtype: object\n",
      "id                   int64\n",
      "step                 int64\n",
      "epoch                int64\n",
      "loss               float64\n",
      "average_virials    float64\n",
      "dtype: object\n",
      "0.021974375\n"
     ]
    }
   ],
   "source": [
    "nn = tati(batch_data_files=[\"dataset-twoclusters.csv\"],\n",
    "          output_activation=\"linear\",\n",
    "          learning_rate=0.1,\n",
    "          loss=\"mean_squared\",\n",
    "          max_steps=100,\n",
    "          optimizer=\"GradientDescent\",\n",
    "          seed=426,\n",
    "          trajectory_file=\"training.csv\")\n",
    "training_data = nn.fit()\n",
    "print(nn.loss())"
   ]
  },
  {
   "cell_type": "markdown",
   "metadata": {},
   "source": [
    "The `fit()` function returned an object `training_data`, we'll come to that in a moment.\n",
    "\n",
    "Let us first take a look at the minimum's parameters: two weights, one bias."
   ]
  },
  {
   "cell_type": "code",
   "execution_count": 4,
   "metadata": {},
   "outputs": [
    {
     "name": "stdout",
     "output_type": "stream",
     "text": [
      "[0.14637233, 0.32722256, -0.045677684]\n"
     ]
    }
   ],
   "source": [
    "print(nn.parameters)"
   ]
  },
  {
   "cell_type": "markdown",
   "metadata": {},
   "source": [
    "The `training_data` object contains three dataframes: `run_info`, `trajectory`, and `averages`.\n",
    "\n",
    "- *run_info* contains information per step such as loss, accuracy, time spent, norm of gradient, ...\n",
    "- *trajectory* contains the parameter in each step\n",
    "- *averages* contains running averages for kinetic energy, for virials, for the ensemble loss, ..."
   ]
  },
  {
   "cell_type": "markdown",
   "metadata": {},
   "source": [
    "#### Run information\n",
    "\n",
    "First, we inspect how the training actually proceeded by looking at the loss value per step."
   ]
  },
  {
   "cell_type": "code",
   "execution_count": 5,
   "metadata": {
    "scrolled": true
   },
   "outputs": [
    {
     "data": {
      "image/png": "[encoded data removed]",
      "text/plain": [
       "<Figure size 432x288 with 1 Axes>"
      ]
     },
     "metadata": {
      "needs_background": "light"
     },
     "output_type": "display_data"
    }
   ],
   "source": [
    "%matplotlib inline\n",
    "import matplotlib.pyplot as plt\n",
    "import numpy as np\n",
    "\n",
    "run = training_data.run_info[['step','loss']].values\n",
    "\n",
    "plt.plot(run[:,0], run[:,1])\n",
    "plt.xlabel(\"Training step\")\n",
    "plt.ylabel(\"Loss\")\n",
    "plt.show()"
   ]
  },
  {
   "cell_type": "markdown",
   "metadata": {},
   "source": [
    "The loss has decreased well and is close to 0.\n",
    "\n",
    "We can also look at other values. For pandas `DataFrame`'s, `columns` contains the name of each column."
   ]
  },
  {
   "cell_type": "code",
   "execution_count": 6,
   "metadata": {},
   "outputs": [
    {
     "name": "stdout",
     "output_type": "stream",
     "text": [
      "Index(['id', 'step', 'epoch', 'accuracy', 'loss', 'time_per_nth_step',\n",
      "       'scaled_gradient', 'virial'],\n",
      "      dtype='object')\n"
     ]
    }
   ],
   "source": [
    "print(training_data.run_info.columns)"
   ]
  },
  {
   "cell_type": "markdown",
   "metadata": {},
   "source": [
    "> Different optimizer and sampler methods produce different columns in *run_info* depending on their respective properties.\n",
    "\n",
    "Let us inspect the norm of the gradient, the *scaled_gradient*. It is scaled by the `learning_rate`.\n",
    "\n",
    "Generally, all columns in run info are scaled such that they are comparable among another, based on their effect on the parameters during the update step."
   ]
  },
  {
   "cell_type": "code",
   "execution_count": 7,
   "metadata": {},
   "outputs": [
    {
     "data": {
      "image/png": "[encoded data removed]",
      "text/plain": [
       "<Figure size 432x288 with 1 Axes>"
      ]
     },
     "metadata": {
      "needs_background": "light"
     },
     "output_type": "display_data"
    }
   ],
   "source": [
    "run = training_data.run_info[['step','scaled_gradient']].values\n",
    "\n",
    "plt.semilogy(run[:,0], run[:,1])\n",
    "plt.xlabel(\"Training step\")\n",
    "plt.ylabel(\"Scale of gradient\")\n",
    "plt.show()"
   ]
  },
  {
   "cell_type": "markdown",
   "metadata": {},
   "source": [
    "### Trajectory\n",
    "\n",
    "Let us also look at the training trajectory."
   ]
  },
  {
   "cell_type": "code",
   "execution_count": 8,
   "metadata": {},
   "outputs": [
    {
     "name": "stdout",
     "output_type": "stream",
     "text": [
      "Index(['id', 'step', 'loss', 'weight0', 'weight1', 'bias0'], dtype='object')\n"
     ]
    },
    {
     "data": {
      "image/png": "[encoded data removed]",
      "text/plain": [
       "<Figure size 432x288 with 2 Axes>"
      ]
     },
     "metadata": {
      "needs_background": "light"
     },
     "output_type": "display_data"
    }
   ],
   "source": [
    "print(training_data.trajectory.columns)\n",
    "trajectory = training_data.trajectory[['weight0','weight1','loss']].values\n",
    "\n",
    "plt.plot(trajectory[:,0], trajectory[:,1])\n",
    "plt.scatter(trajectory[:,0], trajectory[:,1], c=trajectory[:,2])\n",
    "plt.xlabel(\"w1\")\n",
    "plt.ylabel(\"w2\")\n",
    "plt.colorbar()\n",
    "plt.show()"
   ]
  },
  {
   "cell_type": "markdown",
   "metadata": {},
   "source": [
    "#### Predict labels of unknown data\n",
    "\n",
    "Having trained a network, we would like to make predictions for new data that the network has not seen, yet.\n",
    "\n",
    "To this end, we use the `predict()` function which needs to be supplied with the unknown features."
   ]
  },
  {
   "cell_type": "code",
   "execution_count": 9,
   "metadata": {},
   "outputs": [
    {
     "name": "stdout",
     "output_type": "stream",
     "text": [
      "[[[-1.]\n",
      "  [ 1.]\n",
      "  [ 1.]\n",
      "  [-1.]\n",
      "  [-1.]]]\n"
     ]
    }
   ],
   "source": [
    "unknown_data = np.array([[0,0], [1,1], [-1,1], [1,-1], [-1,-1]])\n",
    "print(np.sign(nn.predict(unknown_data)))"
   ]
  },
  {
   "cell_type": "markdown",
   "metadata": {},
   "source": [
    "We get a list of labels, one per item, in return. We have used `numpy.sign` to turn this into a list with entries in {-1,1}."
   ]
  },
  {
   "cell_type": "markdown",
   "metadata": {},
   "source": [
    "Let's use this to see the input space through the neural network classification lens."
   ]
  },
  {
   "cell_type": "code",
   "execution_count": 10,
   "metadata": {},
   "outputs": [],
   "source": [
    "import numpy as np\n",
    "x = np.linspace(-3, 3, 10)\n",
    "y = np.linspace(-3, 3, 10)\n",
    "xv, yv = np.meshgrid(x, y)\n",
    "coords = np.array([xv.reshape(-1), yv.reshape(-1)]).T\n",
    "labels = nn.predict(coords) # not using np.sign to see distance to decision boundary"
   ]
  },
  {
   "cell_type": "markdown",
   "metadata": {},
   "source": [
    "Plot it."
   ]
  },
  {
   "cell_type": "code",
   "execution_count": 11,
   "metadata": {},
   "outputs": [
    {
     "data": {
      "image/png": "[encoded data removed]",
      "text/plain": [
       "<Figure size 432x288 with 1 Axes>"
      ]
     },
     "metadata": {
      "needs_background": "light"
     },
     "output_type": "display_data"
    }
   ],
   "source": [
    "%matplotlib inline\n",
    "import matplotlib.pyplot as plt\n",
    "import matplotlib.cm as cm\n",
    "import numpy as np\n",
    "\n",
    "# plot the labeled dataset for comparison\n",
    "dataset = nn.dataset\n",
    "plt.scatter(dataset[0][:,0], dataset[0][:,1], c=dataset[1][:,0])\n",
    "\n",
    "# plot the input space predictions\n",
    "plt.scatter(coords[:,0], coords[:,1], c=labels[0][:,0], marker='x')\n",
    "plt.xlabel(\"x1\")\n",
    "plt.ylabel(\"x2\")\n",
    "plt.show()\n"
   ]
  },
  {
   "cell_type": "markdown",
   "metadata": {},
   "source": [
    "### Summary\n",
    "\n",
    "- how to train a network\n",
    "- how to visualize the run information and trajectory\n",
    "- how to predict using a pre-trained network on unknown data"
   ]
  }
 ],
 "metadata": {
  "kernelspec": {
   "display_name": "Python 3",
   "language": "python",
   "name": "python3"
  },
  "language_info": {
   "codemirror_mode": {
    "name": "ipython",
    "version": 3
   },
   "file_extension": ".py",
   "mimetype": "text/x-python",
   "name": "python",
   "nbconvert_exporter": "python",
   "pygments_lexer": "ipython3",
   "version": "3.6.8"
  }
 },
 "nbformat": 4,
 "nbformat_minor": 2
}
