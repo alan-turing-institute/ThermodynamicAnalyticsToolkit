{
 "cells": [
  {
   "cell_type": "markdown",
   "metadata": {},
   "source": [
    "# A guided tour through TATi\n",
    "\n",
    "The *Thermodynamic Analytics Toolkit (TATi)* allows to perform thermodynamic sampling\n",
    "and analysis of large neural network loss manifolds. It extends\n",
    " [Tensorflow](https://www.tensorflow.org/) by several samplers, by a framework\n",
    "to rapidly prototype new samplers, by the capability to sample several networks\n",
    "in parallel and provides tools for analysis and visualization of loss\n",
    "manifolds.\n",
    "We rely  on the Python programming language as only for that Tensorflow's\n",
    "interface has an [API stability promise](https://www.tensorflow.org/api_docs/).\n",
    "\n",
    "## Preliminaries\n",
    "\n",
    "First of all, let's make sure tensorflow is installed on your local system."
   ]
  },
  {
   "cell_type": "code",
   "execution_count": 2,
   "metadata": {},
   "outputs": [
    {
     "name": "stdout",
     "output_type": "stream",
     "text": [
      "1.11.0\n"
     ]
    }
   ],
   "source": [
    "import tensorflow as tf\n",
    "print(tf.__version__)"
   ]
  },
  {
   "cell_type": "markdown",
   "metadata": {},
   "source": [
    "This should say *1.4.1* or above (current version at time of writing is 1.12).\n",
    "\n",
    "Furthermore, let's check your version of TATi."
   ]
  },
  {
   "cell_type": "code",
   "execution_count": 1,
   "metadata": {},
   "outputs": [
    {
     "name": "stdout",
     "output_type": "stream",
     "text": [
      "0.9.4\n"
     ]
    }
   ],
   "source": [
    "import TATi as tati\n",
    "print(tati.__version__)"
   ]
  },
  {
   "cell_type": "markdown",
   "metadata": {},
   "source": [
    "This should say *0.9.4* or above."
   ]
  },
  {
   "cell_type": "markdown",
   "metadata": {},
   "source": [
    "## Topics of the tour\n",
    "\n",
    "1. Introduction\n",
    "2. [Setting up perceptrons as the neural network](guided-tour-02-setup-network.ipynb)\n",
    "    1. [Activations](guided-tour-02-1-activations.ipynb)\n",
    "    2. [Network topologies](guided-tour-02-2-different-topologies.ipynb)\n",
    "3. [Feeding in the dataset](guided-tour-03-feeding-dataset.ipynb)\n",
    "4. [Accessing properties](guided-tour-04-accessing-properties.ipynb)\n",
    "5. [Training the network](guided-tour-05-training.ipynb)\n",
    "6. [Looking at the loss manifold](guided-tour-06-loss-manifold.ipynb)\n",
    "    1. [Subgrid sampling](guided-tour-06-1-loss-manifold-subgrid.ipynb)\n",
    "7. [Sampling the loss manifold](guided-tour-07-sampling.ipynb)\n",
    "8. [Rapid-prototype your own sampler](guided-tour-08-rapid-prototype.ipynb)\n",
    "9. [Using multiple walkers](guided-tour-09-multiple-walkers.ipynb)\n",
    "10. [Sampling loop with class `Model`](guided-tour-10-sampling-loop.ipynb)\n",
    "11. [Looking at a full tensorflow implementation of a sampler](guided-tour-11-tensorflow-implementation.ipynb)\n"
   ]
  }
 ],
 "metadata": {
  "kernelspec": {
   "display_name": "Python 3",
   "language": "python",
   "name": "python3"
  },
  "language_info": {
   "codemirror_mode": {
    "name": "ipython",
    "version": 3
   },
   "file_extension": ".py",
   "mimetype": "text/x-python",
   "name": "python",
   "nbconvert_exporter": "python",
   "pygments_lexer": "ipython3",
   "version": "3.6.8"
  }
 },
 "nbformat": 4,
 "nbformat_minor": 1
}
